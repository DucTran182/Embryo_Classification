{
  "cells": [
    {
      "cell_type": "markdown",
      "metadata": {
        "id": "view-in-github",
        "colab_type": "text"
      },
      "source": [
        "<a href=\"https://colab.research.google.com/github/DucTran182/Embryo_Classification/blob/main/VGG.ipynb\" target=\"_parent\"><img src=\"https://colab.research.google.com/assets/colab-badge.svg\" alt=\"Open In Colab\"/></a>"
      ]
    },
    {
      "cell_type": "code",
      "execution_count": null,
      "metadata": {
        "colab": {
          "base_uri": "https://localhost:8080/"
        },
        "id": "0dMIwOKpcVZw",
        "outputId": "f292b18e-b94c-440f-d889-14fd8db7eb81"
      },
      "outputs": [
        {
          "output_type": "stream",
          "name": "stdout",
          "text": [
            "Mounted at /content/drive\n"
          ]
        }
      ],
      "source": [
        "from google.colab import drive\n",
        "drive.mount('/content/drive')"
      ]
    },
    {
      "cell_type": "code",
      "execution_count": null,
      "metadata": {
        "id": "BK5ELSdFcl5B"
      },
      "outputs": [],
      "source": [
        "from tensorflow.keras.preprocessing.image import ImageDataGenerator"
      ]
    },
    {
      "cell_type": "code",
      "execution_count": null,
      "metadata": {
        "colab": {
          "base_uri": "https://localhost:8080/"
        },
        "id": "yBF5Ojo_cn7t",
        "outputId": "39f6e2e8-200f-4060-e905-abb6a82ab798"
      },
      "outputs": [
        {
          "output_type": "stream",
          "name": "stdout",
          "text": [
            "Found 346 images belonging to 2 classes.\n",
            "Found 146 images belonging to 2 classes.\n"
          ]
        }
      ],
      "source": [
        "train_datagen = ImageDataGenerator(\n",
        "    rescale=1.0/255,\n",
        "    validation_split=0.3  # Split the data into 80% train and 20% validation\n",
        ")\n",
        "\n",
        "train_generator = train_datagen.flow_from_directory(\n",
        "    '/content/drive/MyDrive/CV Group_Image Classifier/filtered_data/D5',\n",
        "    target_size=(224, 224),  # VGG model requires 224x224 input size\n",
        "    batch_size=32,\n",
        "    class_mode='binary',  # Binary classification: Good or NotGood\n",
        "    subset='training'  # Use training subset for training\n",
        ")\n",
        "\n",
        "validation_generator = train_datagen.flow_from_directory(\n",
        "    '/content/drive/MyDrive/CV Group_Image Classifier/filtered_data/D5',\n",
        "    target_size=(224, 224),\n",
        "    batch_size=32,\n",
        "    class_mode='binary',\n",
        "    subset='validation'  # Use validation subset for validation\n",
        ")"
      ]
    },
    {
      "cell_type": "code",
      "execution_count": null,
      "metadata": {
        "id": "_U1r1lhec1-L"
      },
      "outputs": [],
      "source": [
        "from tensorflow.keras.applications import VGG19\n",
        "from tensorflow.keras.models import Sequential\n",
        "from tensorflow.keras.layers import Dense, Flatten, BatchNormalization\n",
        "from tensorflow.keras.regularizers import l2\n",
        "from tensorflow.keras.optimizers import Adam"
      ]
    },
    {
      "cell_type": "code",
      "execution_count": null,
      "metadata": {
        "id": "dG77noc0c_bM",
        "colab": {
          "base_uri": "https://localhost:8080/"
        },
        "outputId": "7fcf030c-f937-4cf8-fe94-2a38190ace40"
      },
      "outputs": [
        {
          "output_type": "stream",
          "name": "stdout",
          "text": [
            "Downloading data from https://storage.googleapis.com/tensorflow/keras-applications/vgg19/vgg19_weights_tf_dim_ordering_tf_kernels_notop.h5\n",
            "80134624/80134624 [==============================] - 5s 0us/step\n"
          ]
        }
      ],
      "source": [
        "# Adopt pre-trained VGG16\n",
        "vgg_base = VGG19(weights='imagenet', include_top=False, input_shape=(224, 224, 3))"
      ]
    },
    {
      "cell_type": "code",
      "execution_count": null,
      "metadata": {
        "id": "BNtLG8Lqc7LY"
      },
      "outputs": [],
      "source": [
        "# Build model\n",
        "model = Sequential()\n",
        "model.add(vgg_base)\n",
        "model.add(BatchNormalization())\n",
        "model.add(Flatten())\n",
        "model.add(Dense(64, input_dim=8, activation='relu', kernel_regularizer=l2(0.01)))\n",
        "model.add(BatchNormalization())\n",
        "model.add(Dense(1, activation='sigmoid'))  # Binary classification, so use 'sigmoid'\n",
        "\n",
        "vgg_base.trainable = False  # Freeze VGG layers\n",
        "\n",
        "model.compile(loss='binary_crossentropy', optimizer=Adam(learning_rate=0.001), metrics=['accuracy'])\n"
      ]
    },
    {
      "cell_type": "code",
      "execution_count": null,
      "metadata": {
        "colab": {
          "base_uri": "https://localhost:8080/"
        },
        "id": "fb0fk5djaI6J",
        "outputId": "8d64e24e-97ff-48dc-dad0-191bb4c3564e"
      },
      "outputs": [
        {
          "output_type": "stream",
          "name": "stdout",
          "text": [
            "Model: \"sequential\"\n",
            "_________________________________________________________________\n",
            " Layer (type)                Output Shape              Param #   \n",
            "=================================================================\n",
            " vgg19 (Functional)          (None, 7, 7, 512)         20024384  \n",
            "                                                                 \n",
            " batch_normalization (Batch  (None, 7, 7, 512)         2048      \n",
            " Normalization)                                                  \n",
            "                                                                 \n",
            " flatten (Flatten)           (None, 25088)             0         \n",
            "                                                                 \n",
            " dense (Dense)               (None, 64)                1605696   \n",
            "                                                                 \n",
            " batch_normalization_1 (Bat  (None, 64)                256       \n",
            " chNormalization)                                                \n",
            "                                                                 \n",
            " dense_1 (Dense)             (None, 1)                 65        \n",
            "                                                                 \n",
            "=================================================================\n",
            "Total params: 21632449 (82.52 MB)\n",
            "Trainable params: 1606913 (6.13 MB)\n",
            "Non-trainable params: 20025536 (76.39 MB)\n",
            "_________________________________________________________________\n"
          ]
        }
      ],
      "source": [
        "model.summary()"
      ]
    },
    {
      "cell_type": "code",
      "execution_count": null,
      "metadata": {
        "colab": {
          "base_uri": "https://localhost:8080/"
        },
        "id": "ungxwmgzdNRk",
        "outputId": "375fe068-9bab-4ee1-f2a8-5e0cf45ca0bb"
      },
      "outputs": [
        {
          "output_type": "stream",
          "name": "stdout",
          "text": [
            "Epoch 1/20\n",
            "11/11 [==============================] - 152s 13s/step - loss: 1.5276 - accuracy: 0.8555 - val_loss: 1.7923 - val_accuracy: 0.6712\n",
            "Epoch 2/20\n",
            "11/11 [==============================] - 3s 236ms/step - loss: 1.1126 - accuracy: 0.9740 - val_loss: 1.8138 - val_accuracy: 0.6507\n",
            "Epoch 3/20\n",
            "11/11 [==============================] - 3s 227ms/step - loss: 0.9209 - accuracy: 1.0000 - val_loss: 1.5265 - val_accuracy: 0.6438\n",
            "Epoch 4/20\n",
            "11/11 [==============================] - 3s 230ms/step - loss: 0.7489 - accuracy: 1.0000 - val_loss: 1.2652 - val_accuracy: 0.6849\n",
            "Epoch 5/20\n",
            "11/11 [==============================] - 3s 238ms/step - loss: 0.6087 - accuracy: 1.0000 - val_loss: 1.1544 - val_accuracy: 0.6849\n",
            "Epoch 6/20\n",
            "11/11 [==============================] - 3s 229ms/step - loss: 0.4866 - accuracy: 1.0000 - val_loss: 1.0338 - val_accuracy: 0.6918\n",
            "Epoch 7/20\n",
            "11/11 [==============================] - 3s 230ms/step - loss: 0.3963 - accuracy: 1.0000 - val_loss: 0.9547 - val_accuracy: 0.6986\n",
            "Epoch 8/20\n",
            "11/11 [==============================] - 3s 282ms/step - loss: 0.3298 - accuracy: 1.0000 - val_loss: 0.9324 - val_accuracy: 0.6644\n",
            "Epoch 9/20\n",
            "11/11 [==============================] - 3s 232ms/step - loss: 0.2676 - accuracy: 1.0000 - val_loss: 0.8388 - val_accuracy: 0.6986\n",
            "Epoch 10/20\n",
            "11/11 [==============================] - 3s 234ms/step - loss: 0.2209 - accuracy: 1.0000 - val_loss: 0.7767 - val_accuracy: 0.7055\n",
            "Epoch 11/20\n",
            "11/11 [==============================] - 3s 231ms/step - loss: 0.1837 - accuracy: 1.0000 - val_loss: 0.7229 - val_accuracy: 0.7055\n",
            "Epoch 12/20\n",
            "11/11 [==============================] - 3s 237ms/step - loss: 0.1541 - accuracy: 1.0000 - val_loss: 0.7082 - val_accuracy: 0.7123\n",
            "Epoch 13/20\n",
            "11/11 [==============================] - 3s 235ms/step - loss: 0.1310 - accuracy: 1.0000 - val_loss: 0.6885 - val_accuracy: 0.7260\n",
            "Epoch 14/20\n",
            "11/11 [==============================] - 3s 235ms/step - loss: 0.1148 - accuracy: 1.0000 - val_loss: 0.6581 - val_accuracy: 0.7192\n",
            "Epoch 15/20\n",
            "11/11 [==============================] - 3s 238ms/step - loss: 0.0955 - accuracy: 1.0000 - val_loss: 0.6370 - val_accuracy: 0.7192\n",
            "Epoch 16/20\n",
            "11/11 [==============================] - 3s 238ms/step - loss: 0.0791 - accuracy: 1.0000 - val_loss: 0.6200 - val_accuracy: 0.7123\n",
            "Epoch 17/20\n",
            "11/11 [==============================] - 3s 241ms/step - loss: 0.0689 - accuracy: 1.0000 - val_loss: 0.6336 - val_accuracy: 0.6986\n",
            "Epoch 18/20\n",
            "11/11 [==============================] - 3s 243ms/step - loss: 0.0725 - accuracy: 1.0000 - val_loss: 0.6468 - val_accuracy: 0.6781\n",
            "Epoch 19/20\n",
            "11/11 [==============================] - 3s 240ms/step - loss: 0.1568 - accuracy: 0.9769 - val_loss: 0.7470 - val_accuracy: 0.7055\n",
            "Epoch 20/20\n",
            "11/11 [==============================] - 3s 245ms/step - loss: 0.2606 - accuracy: 0.9740 - val_loss: 0.9814 - val_accuracy: 0.7055\n"
          ]
        }
      ],
      "source": [
        "# Train the model\n",
        "hist = model.fit(train_generator, validation_data=validation_generator, epochs=20, batch_size=32)"
      ]
    },
    {
      "cell_type": "code",
      "execution_count": null,
      "metadata": {
        "id": "Hu82MhUedYJE"
      },
      "outputs": [],
      "source": [
        "import matplotlib.pyplot as plt"
      ]
    },
    {
      "cell_type": "code",
      "execution_count": null,
      "metadata": {
        "id": "6kWOyciudW1r",
        "colab": {
          "base_uri": "https://localhost:8080/",
          "height": 478
        },
        "outputId": "2fb493cd-8eb9-456e-f73a-e522e93b9570"
      },
      "outputs": [
        {
          "output_type": "display_data",
          "data": {
            "text/plain": [
              "<Figure size 640x480 with 1 Axes>"
            ],
            "image/png": "[encoded data removed]"
          },
          "metadata": {}
        }
      ],
      "source": [
        "fig = plt.figure()\n",
        "plt.plot(hist.history['loss'], color='teal', label='loss')\n",
        "plt.plot(hist.history['val_loss'], color='orange', label='val_loss')\n",
        "fig.suptitle('Loss', fontsize=20)\n",
        "plt.legend(loc=\"upper left\")\n",
        "plt.show()"
      ]
    },
    {
      "cell_type": "code",
      "execution_count": null,
      "metadata": {
        "id": "7o-TVQ_CdqVi",
        "colab": {
          "base_uri": "https://localhost:8080/",
          "height": 478
        },
        "outputId": "a0497c9a-a481-40a6-ac8d-68504a40cf9a"
      },
      "outputs": [
        {
          "output_type": "display_data",
          "data": {
            "text/plain": [
              "<Figure size 640x480 with 1 Axes>"
            ],
            "image/png": "[encoded data removed]"
          },
          "metadata": {}
        }
      ],
      "source": [
        "fig = plt.figure()\n",
        "plt.plot(hist.history['accuracy'], color='teal', label='accuracy')\n",
        "plt.plot(hist.history['val_accuracy'], color='orange', label='val_accuracy')\n",
        "fig.suptitle('Accuracy', fontsize=20)\n",
        "plt.legend(loc=\"upper left\")\n",
        "plt.show()"
      ]
    },
    {
      "cell_type": "code",
      "execution_count": null,
      "metadata": {
        "id": "JP_fhdMoqIFZ"
      },
      "outputs": [],
      "source": [
        "test_data_dir = '/content/drive/MyDrive/CV Group_Image Classifier/test_data/'\n"
      ]
    },
    {
      "cell_type": "code",
      "execution_count": null,
      "metadata": {
        "id": "KkFEAHUZdVML",
        "colab": {
          "base_uri": "https://localhost:8080/"
        },
        "outputId": "5e3a0d14-ab1e-4ea4-8113-924ea6eddbd8"
      },
      "outputs": [
        {
          "output_type": "stream",
          "name": "stdout",
          "text": [
            "Found 60 images belonging to 1 classes.\n"
          ]
        }
      ],
      "source": [
        "# Load and preprocess the test data\n",
        "test_datagen = ImageDataGenerator(rescale=1.0/255)\n",
        "test_generator = test_datagen.flow_from_directory(\n",
        "    test_data_dir,\n",
        "    target_size=(224, 224),\n",
        "    batch_size=32,\n",
        "    class_mode=None,  # No class labels for test data\n",
        "    shuffle=False  # Maintain the order of test data\n",
        ")"
      ]
    },
    {
      "cell_type": "code",
      "execution_count": null,
      "metadata": {
        "id": "Dw6rMIISjrEf"
      },
      "outputs": [],
      "source": [
        "import pandas as pd"
      ]
    },
    {
      "cell_type": "code",
      "execution_count": null,
      "metadata": {
        "id": "v6omDbB3jl8g"
      },
      "outputs": [],
      "source": [
        "# Create an empty DataFrame to store the predictions\n",
        "predictions_df = pd.DataFrame(columns=['Image', 'Prediction'])"
      ]
    },
    {
      "cell_type": "code",
      "execution_count": null,
      "metadata": {
        "id": "4GgBqTfJdXSu",
        "colab": {
          "base_uri": "https://localhost:8080/"
        },
        "outputId": "d59d920a-b355-4627-a4ff-060561d94bf2"
      },
      "outputs": [
        {
          "output_type": "stream",
          "name": "stdout",
          "text": [
            "2/2 [==============================] - 25s 25s/step\n",
            "Prediction Accuracy: 71.67%\n"
          ]
        },
        {
          "output_type": "stream",
          "name": "stderr",
          "text": [
            "<ipython-input-16-ef54e96fa3b1>:14: FutureWarning: The frame.append method is deprecated and will be removed from pandas in a future version. Use pandas.concat instead.\n",
            "  predictions_df = predictions_df.append({'Image': image, 'Prediction': predicted_class[i], 'True_Label': true_label}, ignore_index=True)\n",
            "<ipython-input-16-ef54e96fa3b1>:14: FutureWarning: The frame.append method is deprecated and will be removed from pandas in a future version. Use pandas.concat instead.\n",
            "  predictions_df = predictions_df.append({'Image': image, 'Prediction': predicted_class[i], 'True_Label': true_label}, ignore_index=True)\n",
            "<ipython-input-16-ef54e96fa3b1>:14: FutureWarning: The frame.append method is deprecated and will be removed from pandas in a future version. Use pandas.concat instead.\n",
            "  predictions_df = predictions_df.append({'Image': image, 'Prediction': predicted_class[i], 'True_Label': true_label}, ignore_index=True)\n",
            "<ipython-input-16-ef54e96fa3b1>:14: FutureWarning: The frame.append method is deprecated and will be removed from pandas in a future version. Use pandas.concat instead.\n",
            "  predictions_df = predictions_df.append({'Image': image, 'Prediction': predicted_class[i], 'True_Label': true_label}, ignore_index=True)\n",
            "<ipython-input-16-ef54e96fa3b1>:14: FutureWarning: The frame.append method is deprecated and will be removed from pandas in a future version. Use pandas.concat instead.\n",
            "  predictions_df = predictions_df.append({'Image': image, 'Prediction': predicted_class[i], 'True_Label': true_label}, ignore_index=True)\n",
            "<ipython-input-16-ef54e96fa3b1>:14: FutureWarning: The frame.append method is deprecated and will be removed from pandas in a future version. Use pandas.concat instead.\n",
            "  predictions_df = predictions_df.append({'Image': image, 'Prediction': predicted_class[i], 'True_Label': true_label}, ignore_index=True)\n",
            "<ipython-input-16-ef54e96fa3b1>:14: FutureWarning: The frame.append method is deprecated and will be removed from pandas in a future version. Use pandas.concat instead.\n",
            "  predictions_df = predictions_df.append({'Image': image, 'Prediction': predicted_class[i], 'True_Label': true_label}, ignore_index=True)\n",
            "<ipython-input-16-ef54e96fa3b1>:14: FutureWarning: The frame.append method is deprecated and will be removed from pandas in a future version. Use pandas.concat instead.\n",
            "  predictions_df = predictions_df.append({'Image': image, 'Prediction': predicted_class[i], 'True_Label': true_label}, ignore_index=True)\n",
            "<ipython-input-16-ef54e96fa3b1>:14: FutureWarning: The frame.append method is deprecated and will be removed from pandas in a future version. Use pandas.concat instead.\n",
            "  predictions_df = predictions_df.append({'Image': image, 'Prediction': predicted_class[i], 'True_Label': true_label}, ignore_index=True)\n",
            "<ipython-input-16-ef54e96fa3b1>:14: FutureWarning: The frame.append method is deprecated and will be removed from pandas in a future version. Use pandas.concat instead.\n",
            "  predictions_df = predictions_df.append({'Image': image, 'Prediction': predicted_class[i], 'True_Label': true_label}, ignore_index=True)\n",
            "<ipython-input-16-ef54e96fa3b1>:14: FutureWarning: The frame.append method is deprecated and will be removed from pandas in a future version. Use pandas.concat instead.\n",
            "  predictions_df = predictions_df.append({'Image': image, 'Prediction': predicted_class[i], 'True_Label': true_label}, ignore_index=True)\n",
            "<ipython-input-16-ef54e96fa3b1>:14: FutureWarning: The frame.append method is deprecated and will be removed from pandas in a future version. Use pandas.concat instead.\n",
            "  predictions_df = predictions_df.append({'Image': image, 'Prediction': predicted_class[i], 'True_Label': true_label}, ignore_index=True)\n",
            "<ipython-input-16-ef54e96fa3b1>:14: FutureWarning: The frame.append method is deprecated and will be removed from pandas in a future version. Use pandas.concat instead.\n",
            "  predictions_df = predictions_df.append({'Image': image, 'Prediction': predicted_class[i], 'True_Label': true_label}, ignore_index=True)\n",
            "<ipython-input-16-ef54e96fa3b1>:14: FutureWarning: The frame.append method is deprecated and will be removed from pandas in a future version. Use pandas.concat instead.\n",
            "  predictions_df = predictions_df.append({'Image': image, 'Prediction': predicted_class[i], 'True_Label': true_label}, ignore_index=True)\n",
            "<ipython-input-16-ef54e96fa3b1>:14: FutureWarning: The frame.append method is deprecated and will be removed from pandas in a future version. Use pandas.concat instead.\n",
            "  predictions_df = predictions_df.append({'Image': image, 'Prediction': predicted_class[i], 'True_Label': true_label}, ignore_index=True)\n",
            "<ipython-input-16-ef54e96fa3b1>:14: FutureWarning: The frame.append method is deprecated and will be removed from pandas in a future version. Use pandas.concat instead.\n",
            "  predictions_df = predictions_df.append({'Image': image, 'Prediction': predicted_class[i], 'True_Label': true_label}, ignore_index=True)\n",
            "<ipython-input-16-ef54e96fa3b1>:14: FutureWarning: The frame.append method is deprecated and will be removed from pandas in a future version. Use pandas.concat instead.\n",
            "  predictions_df = predictions_df.append({'Image': image, 'Prediction': predicted_class[i], 'True_Label': true_label}, ignore_index=True)\n",
            "<ipython-input-16-ef54e96fa3b1>:14: FutureWarning: The frame.append method is deprecated and will be removed from pandas in a future version. Use pandas.concat instead.\n",
            "  predictions_df = predictions_df.append({'Image': image, 'Prediction': predicted_class[i], 'True_Label': true_label}, ignore_index=True)\n",
            "<ipython-input-16-ef54e96fa3b1>:14: FutureWarning: The frame.append method is deprecated and will be removed from pandas in a future version. Use pandas.concat instead.\n",
            "  predictions_df = predictions_df.append({'Image': image, 'Prediction': predicted_class[i], 'True_Label': true_label}, ignore_index=True)\n",
            "<ipython-input-16-ef54e96fa3b1>:14: FutureWarning: The frame.append method is deprecated and will be removed from pandas in a future version. Use pandas.concat instead.\n",
            "  predictions_df = predictions_df.append({'Image': image, 'Prediction': predicted_class[i], 'True_Label': true_label}, ignore_index=True)\n",
            "<ipython-input-16-ef54e96fa3b1>:14: FutureWarning: The frame.append method is deprecated and will be removed from pandas in a future version. Use pandas.concat instead.\n",
            "  predictions_df = predictions_df.append({'Image': image, 'Prediction': predicted_class[i], 'True_Label': true_label}, ignore_index=True)\n",
            "<ipython-input-16-ef54e96fa3b1>:14: FutureWarning: The frame.append method is deprecated and will be removed from pandas in a future version. Use pandas.concat instead.\n",
            "  predictions_df = predictions_df.append({'Image': image, 'Prediction': predicted_class[i], 'True_Label': true_label}, ignore_index=True)\n",
            "<ipython-input-16-ef54e96fa3b1>:14: FutureWarning: The frame.append method is deprecated and will be removed from pandas in a future version. Use pandas.concat instead.\n",
            "  predictions_df = predictions_df.append({'Image': image, 'Prediction': predicted_class[i], 'True_Label': true_label}, ignore_index=True)\n",
            "<ipython-input-16-ef54e96fa3b1>:14: FutureWarning: The frame.append method is deprecated and will be removed from pandas in a future version. Use pandas.concat instead.\n",
            "  predictions_df = predictions_df.append({'Image': image, 'Prediction': predicted_class[i], 'True_Label': true_label}, ignore_index=True)\n",
            "<ipython-input-16-ef54e96fa3b1>:14: FutureWarning: The frame.append method is deprecated and will be removed from pandas in a future version. Use pandas.concat instead.\n",
            "  predictions_df = predictions_df.append({'Image': image, 'Prediction': predicted_class[i], 'True_Label': true_label}, ignore_index=True)\n",
            "<ipython-input-16-ef54e96fa3b1>:14: FutureWarning: The frame.append method is deprecated and will be removed from pandas in a future version. Use pandas.concat instead.\n",
            "  predictions_df = predictions_df.append({'Image': image, 'Prediction': predicted_class[i], 'True_Label': true_label}, ignore_index=True)\n",
            "<ipython-input-16-ef54e96fa3b1>:14: FutureWarning: The frame.append method is deprecated and will be removed from pandas in a future version. Use pandas.concat instead.\n",
            "  predictions_df = predictions_df.append({'Image': image, 'Prediction': predicted_class[i], 'True_Label': true_label}, ignore_index=True)\n",
            "<ipython-input-16-ef54e96fa3b1>:14: FutureWarning: The frame.append method is deprecated and will be removed from pandas in a future version. Use pandas.concat instead.\n",
            "  predictions_df = predictions_df.append({'Image': image, 'Prediction': predicted_class[i], 'True_Label': true_label}, ignore_index=True)\n",
            "<ipython-input-16-ef54e96fa3b1>:14: FutureWarning: The frame.append method is deprecated and will be removed from pandas in a future version. Use pandas.concat instead.\n",
            "  predictions_df = predictions_df.append({'Image': image, 'Prediction': predicted_class[i], 'True_Label': true_label}, ignore_index=True)\n",
            "<ipython-input-16-ef54e96fa3b1>:14: FutureWarning: The frame.append method is deprecated and will be removed from pandas in a future version. Use pandas.concat instead.\n",
            "  predictions_df = predictions_df.append({'Image': image, 'Prediction': predicted_class[i], 'True_Label': true_label}, ignore_index=True)\n",
            "<ipython-input-16-ef54e96fa3b1>:14: FutureWarning: The frame.append method is deprecated and will be removed from pandas in a future version. Use pandas.concat instead.\n",
            "  predictions_df = predictions_df.append({'Image': image, 'Prediction': predicted_class[i], 'True_Label': true_label}, ignore_index=True)\n",
            "<ipython-input-16-ef54e96fa3b1>:14: FutureWarning: The frame.append method is deprecated and will be removed from pandas in a future version. Use pandas.concat instead.\n",
            "  predictions_df = predictions_df.append({'Image': image, 'Prediction': predicted_class[i], 'True_Label': true_label}, ignore_index=True)\n",
            "<ipython-input-16-ef54e96fa3b1>:14: FutureWarning: The frame.append method is deprecated and will be removed from pandas in a future version. Use pandas.concat instead.\n",
            "  predictions_df = predictions_df.append({'Image': image, 'Prediction': predicted_class[i], 'True_Label': true_label}, ignore_index=True)\n",
            "<ipython-input-16-ef54e96fa3b1>:14: FutureWarning: The frame.append method is deprecated and will be removed from pandas in a future version. Use pandas.concat instead.\n",
            "  predictions_df = predictions_df.append({'Image': image, 'Prediction': predicted_class[i], 'True_Label': true_label}, ignore_index=True)\n",
            "<ipython-input-16-ef54e96fa3b1>:14: FutureWarning: The frame.append method is deprecated and will be removed from pandas in a future version. Use pandas.concat instead.\n",
            "  predictions_df = predictions_df.append({'Image': image, 'Prediction': predicted_class[i], 'True_Label': true_label}, ignore_index=True)\n",
            "<ipython-input-16-ef54e96fa3b1>:14: FutureWarning: The frame.append method is deprecated and will be removed from pandas in a future version. Use pandas.concat instead.\n",
            "  predictions_df = predictions_df.append({'Image': image, 'Prediction': predicted_class[i], 'True_Label': true_label}, ignore_index=True)\n",
            "<ipython-input-16-ef54e96fa3b1>:14: FutureWarning: The frame.append method is deprecated and will be removed from pandas in a future version. Use pandas.concat instead.\n",
            "  predictions_df = predictions_df.append({'Image': image, 'Prediction': predicted_class[i], 'True_Label': true_label}, ignore_index=True)\n",
            "<ipython-input-16-ef54e96fa3b1>:14: FutureWarning: The frame.append method is deprecated and will be removed from pandas in a future version. Use pandas.concat instead.\n",
            "  predictions_df = predictions_df.append({'Image': image, 'Prediction': predicted_class[i], 'True_Label': true_label}, ignore_index=True)\n",
            "<ipython-input-16-ef54e96fa3b1>:14: FutureWarning: The frame.append method is deprecated and will be removed from pandas in a future version. Use pandas.concat instead.\n",
            "  predictions_df = predictions_df.append({'Image': image, 'Prediction': predicted_class[i], 'True_Label': true_label}, ignore_index=True)\n",
            "<ipython-input-16-ef54e96fa3b1>:14: FutureWarning: The frame.append method is deprecated and will be removed from pandas in a future version. Use pandas.concat instead.\n",
            "  predictions_df = predictions_df.append({'Image': image, 'Prediction': predicted_class[i], 'True_Label': true_label}, ignore_index=True)\n",
            "<ipython-input-16-ef54e96fa3b1>:14: FutureWarning: The frame.append method is deprecated and will be removed from pandas in a future version. Use pandas.concat instead.\n",
            "  predictions_df = predictions_df.append({'Image': image, 'Prediction': predicted_class[i], 'True_Label': true_label}, ignore_index=True)\n",
            "<ipython-input-16-ef54e96fa3b1>:14: FutureWarning: The frame.append method is deprecated and will be removed from pandas in a future version. Use pandas.concat instead.\n",
            "  predictions_df = predictions_df.append({'Image': image, 'Prediction': predicted_class[i], 'True_Label': true_label}, ignore_index=True)\n",
            "<ipython-input-16-ef54e96fa3b1>:14: FutureWarning: The frame.append method is deprecated and will be removed from pandas in a future version. Use pandas.concat instead.\n",
            "  predictions_df = predictions_df.append({'Image': image, 'Prediction': predicted_class[i], 'True_Label': true_label}, ignore_index=True)\n",
            "<ipython-input-16-ef54e96fa3b1>:14: FutureWarning: The frame.append method is deprecated and will be removed from pandas in a future version. Use pandas.concat instead.\n",
            "  predictions_df = predictions_df.append({'Image': image, 'Prediction': predicted_class[i], 'True_Label': true_label}, ignore_index=True)\n",
            "<ipython-input-16-ef54e96fa3b1>:14: FutureWarning: The frame.append method is deprecated and will be removed from pandas in a future version. Use pandas.concat instead.\n",
            "  predictions_df = predictions_df.append({'Image': image, 'Prediction': predicted_class[i], 'True_Label': true_label}, ignore_index=True)\n",
            "<ipython-input-16-ef54e96fa3b1>:14: FutureWarning: The frame.append method is deprecated and will be removed from pandas in a future version. Use pandas.concat instead.\n",
            "  predictions_df = predictions_df.append({'Image': image, 'Prediction': predicted_class[i], 'True_Label': true_label}, ignore_index=True)\n",
            "<ipython-input-16-ef54e96fa3b1>:14: FutureWarning: The frame.append method is deprecated and will be removed from pandas in a future version. Use pandas.concat instead.\n",
            "  predictions_df = predictions_df.append({'Image': image, 'Prediction': predicted_class[i], 'True_Label': true_label}, ignore_index=True)\n",
            "<ipython-input-16-ef54e96fa3b1>:14: FutureWarning: The frame.append method is deprecated and will be removed from pandas in a future version. Use pandas.concat instead.\n",
            "  predictions_df = predictions_df.append({'Image': image, 'Prediction': predicted_class[i], 'True_Label': true_label}, ignore_index=True)\n",
            "<ipython-input-16-ef54e96fa3b1>:14: FutureWarning: The frame.append method is deprecated and will be removed from pandas in a future version. Use pandas.concat instead.\n",
            "  predictions_df = predictions_df.append({'Image': image, 'Prediction': predicted_class[i], 'True_Label': true_label}, ignore_index=True)\n",
            "<ipython-input-16-ef54e96fa3b1>:14: FutureWarning: The frame.append method is deprecated and will be removed from pandas in a future version. Use pandas.concat instead.\n",
            "  predictions_df = predictions_df.append({'Image': image, 'Prediction': predicted_class[i], 'True_Label': true_label}, ignore_index=True)\n",
            "<ipython-input-16-ef54e96fa3b1>:14: FutureWarning: The frame.append method is deprecated and will be removed from pandas in a future version. Use pandas.concat instead.\n",
            "  predictions_df = predictions_df.append({'Image': image, 'Prediction': predicted_class[i], 'True_Label': true_label}, ignore_index=True)\n",
            "<ipython-input-16-ef54e96fa3b1>:14: FutureWarning: The frame.append method is deprecated and will be removed from pandas in a future version. Use pandas.concat instead.\n",
            "  predictions_df = predictions_df.append({'Image': image, 'Prediction': predicted_class[i], 'True_Label': true_label}, ignore_index=True)\n",
            "<ipython-input-16-ef54e96fa3b1>:14: FutureWarning: The frame.append method is deprecated and will be removed from pandas in a future version. Use pandas.concat instead.\n",
            "  predictions_df = predictions_df.append({'Image': image, 'Prediction': predicted_class[i], 'True_Label': true_label}, ignore_index=True)\n",
            "<ipython-input-16-ef54e96fa3b1>:14: FutureWarning: The frame.append method is deprecated and will be removed from pandas in a future version. Use pandas.concat instead.\n",
            "  predictions_df = predictions_df.append({'Image': image, 'Prediction': predicted_class[i], 'True_Label': true_label}, ignore_index=True)\n",
            "<ipython-input-16-ef54e96fa3b1>:14: FutureWarning: The frame.append method is deprecated and will be removed from pandas in a future version. Use pandas.concat instead.\n",
            "  predictions_df = predictions_df.append({'Image': image, 'Prediction': predicted_class[i], 'True_Label': true_label}, ignore_index=True)\n",
            "<ipython-input-16-ef54e96fa3b1>:14: FutureWarning: The frame.append method is deprecated and will be removed from pandas in a future version. Use pandas.concat instead.\n",
            "  predictions_df = predictions_df.append({'Image': image, 'Prediction': predicted_class[i], 'True_Label': true_label}, ignore_index=True)\n",
            "<ipython-input-16-ef54e96fa3b1>:14: FutureWarning: The frame.append method is deprecated and will be removed from pandas in a future version. Use pandas.concat instead.\n",
            "  predictions_df = predictions_df.append({'Image': image, 'Prediction': predicted_class[i], 'True_Label': true_label}, ignore_index=True)\n",
            "<ipython-input-16-ef54e96fa3b1>:14: FutureWarning: The frame.append method is deprecated and will be removed from pandas in a future version. Use pandas.concat instead.\n",
            "  predictions_df = predictions_df.append({'Image': image, 'Prediction': predicted_class[i], 'True_Label': true_label}, ignore_index=True)\n",
            "<ipython-input-16-ef54e96fa3b1>:14: FutureWarning: The frame.append method is deprecated and will be removed from pandas in a future version. Use pandas.concat instead.\n",
            "  predictions_df = predictions_df.append({'Image': image, 'Prediction': predicted_class[i], 'True_Label': true_label}, ignore_index=True)\n",
            "<ipython-input-16-ef54e96fa3b1>:14: FutureWarning: The frame.append method is deprecated and will be removed from pandas in a future version. Use pandas.concat instead.\n",
            "  predictions_df = predictions_df.append({'Image': image, 'Prediction': predicted_class[i], 'True_Label': true_label}, ignore_index=True)\n"
          ]
        }
      ],
      "source": [
        "import numpy as np\n",
        "\n",
        "# Predict labels\n",
        "predictions = model.predict(test_generator)\n",
        "\n",
        "# Apply the threshold to all predictions in the array\n",
        "threshold = 0.5\n",
        "predicted_class = (predictions > threshold).astype(int)\n",
        "\n",
        "# Store the image filename, prediction, and ground truth label in the DataFrame\n",
        "for i in range(len(test_generator.filenames)):\n",
        "    image = test_generator.filenames[i]\n",
        "    true_label = 1 if \"Good\" in image else 0\n",
        "    predictions_df = predictions_df.append({'Image': image, 'Prediction': predicted_class[i], 'True_Label': true_label}, ignore_index=True)\n",
        "\n",
        "# Debugging the issue\n",
        "try:\n",
        "    correct_predictions = (predictions_df['Prediction'] == predictions_df['True_Label']).sum()\n",
        "    total_predictions = len(predictions_df)\n",
        "    accuracy_percentage = (correct_predictions / total_predictions) * 100\n",
        "except Exception as e:\n",
        "    print(\"An error occurred:\", e)\n",
        "\n",
        "print(f'Prediction Accuracy: {accuracy_percentage:.2f}%')"
      ]
    },
    {
      "cell_type": "code",
      "execution_count": null,
      "metadata": {
        "id": "VtBvQ16HdjFR"
      },
      "outputs": [],
      "source": [
        "# Save the predictions DataFrame to a CSV file\n",
        "file_path = '/content/drive/MyDrive/CV Group_Image Classifier/VGG19_D5_predictions.csv'\n",
        "predictions_df.to_csv(file_path, index=False)\n"
      ]
    }
  ],
  "metadata": {
    "accelerator": "GPU",
    "colab": {
      "provenance": [],
      "gpuType": "T4",
      "include_colab_link": true
    },
    "kernelspec": {
      "display_name": "Python 3",
      "name": "python3"
    },
    "language_info": {
      "name": "python"
    }
  },
  "nbformat": 4,
  "nbformat_minor": 0
}